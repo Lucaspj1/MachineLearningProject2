{
 "cells": [
  {
   "cell_type": "markdown",
   "id": "b0913dbf",
   "metadata": {},
   "source": [
    "## Machine Learning Project 2"
   ]
  },
  {
   "cell_type": "markdown",
   "id": "e52dd435",
   "metadata": {},
   "source": []
  }
 ],
 "metadata": {
  "language_info": {
   "name": "python"
  }
 },
 "nbformat": 4,
 "nbformat_minor": 5
}
